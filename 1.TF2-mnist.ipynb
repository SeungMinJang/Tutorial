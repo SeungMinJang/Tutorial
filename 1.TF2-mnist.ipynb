{
 "cells": [
  {
   "cell_type": "markdown",
   "metadata": {},
   "source": [
    "1. This tutorial is that I give some hand-written images to the neural network(Convolutional Neural Network) as input.\n",
    "2. The neural network extracts the features on the convolution layers\n",
    "3. The output is classified by the dense layers\n",
    "4. We can define Categorical Crossentropy loss by the prediction and ground-truth\n",
    "5. So, our goal is to minimize the loss by the optimizer\n",
    "6. Finally, the cnn can predict the label of the input image, correctly."
   ]
  },
  {
   "cell_type": "markdown",
   "metadata": {},
   "source": [
    "# Import libraries"
   ]
  },
  {
   "cell_type": "code",
   "execution_count": 1,
   "metadata": {},
   "outputs": [
    {
     "name": "stdout",
     "output_type": "stream",
     "text": [
      "The version of packages\n",
      "2.0.0\n"
     ]
    }
   ],
   "source": [
    "import tensorflow as tf # Deeplearning packages\n",
    "\n",
    "import warnings\n",
    "warnings.filterwarnings(action='ignore')\n",
    "\n",
    "print(\"The version of packages\")\n",
    "print(tf.__version__)"
   ]
  },
  {
   "cell_type": "markdown",
   "metadata": {},
   "source": [
    "# Data load & Pre-processing function\n",
    "- Expand channel dimension for convolutional computation.\n",
    "- Raw Mnist data is 0 ~ 255.\n",
    "- It means the variance is big.\n",
    "- So normalize it by dividing 255"
   ]
  },
  {
   "cell_type": "code",
   "execution_count": 2,
   "metadata": {},
   "outputs": [],
   "source": [
    "from tensorflow.keras.datasets import mnist\n",
    "from tensorflow.keras.utils import to_categorical # make one-hot vector\n",
    "\n",
    "def load_mnist():\n",
    "    (train_data, train_labels), (test_data, test_labels) = mnist.load_data()\n",
    "    train_data = np.expand_dims(train_data, axis = -1) # (60000, 28, 28) -> (60000, 28, 28, 1)\n",
    "    test_data = np.expand_dims(test_data, axis = -1) # (10000, 28, 28) -> (10000, 28, 28, 1) \n",
    "    \n",
    "    train_data, test_data = normalize(train_data, test_data)\n",
    "    \n",
    "    train_labels = to_categorical(train_labels) # (n,) -> (n,10)\n",
    "    test_labels = to_categorical(test_labels) # (n,) -> (n,10)\n",
    "    \n",
    "    return train_data, train_labels, test_data, test_labels\n",
    "\n",
    "def normalize(train_data, test_data):\n",
    "    train_data = train_data.astype(np.float32) / 255.\n",
    "    test_data = test_data.astype(np.float32) / 225.\n",
    "    \n",
    "    return train_data, test_data\n"
   ]
  },
  {
   "cell_type": "markdown",
   "metadata": {},
   "source": [
    "# Data Example\n",
    "- Because input data is matrix form, I import numpy package.\n",
    "- To visualize the input matrix as image, I need matplotlib library"
   ]
  },
  {
   "cell_type": "code",
   "execution_count": 3,
   "metadata": {},
   "outputs": [
    {
     "name": "stdout",
     "output_type": "stream",
     "text": [
      "Train_data shape is: (60000, 28, 28, 1)\n",
      "Train_label shape is: (60000, 10)\n",
      "\n"
     ]
    },
    {
     "data": {
      "image/png": "[encoded data removed]",
      "text/plain": [
       "<Figure size 432x288 with 1 Axes>"
      ]
     },
     "metadata": {
      "needs_background": "light"
     },
     "output_type": "display_data"
    }
   ],
   "source": [
    "import matplotlib.pyplot as plt # To visualize the input images\n",
    "import numpy as np\n",
    "%matplotlib inline\n",
    "\n",
    "train_data, train_labels, test_data, test_labels = load_mnist()\n",
    "print('Train_data shape is:',train_data.shape)\n",
    "print('Train_label shape is:',train_labels.shape)\n",
    "print()\n",
    "idx = np.random.randint(0, 10)\n",
    "\n",
    "plt.imshow(train_data[idx].reshape(28,28))\n",
    "plt.title(\"Label : %d\"%np.where(train_labels[idx]==1)[0][0])\n",
    "plt.show()"
   ]
  },
  {
   "cell_type": "markdown",
   "metadata": {},
   "source": [
    "# Create Model( Dense Net )\n",
    "- https://towardsdatascience.com/a-comprehensive-guide-to-convolutional-neural-networks-the-eli5-way-3bd2b1164a53\n",
    "- Convolution is for feature extraction\n",
    "- Dense is for classifing the input data"
   ]
  },
  {
   "cell_type": "code",
   "execution_count": 4,
   "metadata": {},
   "outputs": [
    {
     "name": "stdout",
     "output_type": "stream",
     "text": [
      "Model: \"sequential\"\n",
      "_________________________________________________________________\n",
      "Layer (type)                 Output Shape              Param #   \n",
      "=================================================================\n",
      "conv2d (Conv2D)              (None, 28, 28, 32)        320       \n",
      "_________________________________________________________________\n",
      "max_pooling2d (MaxPooling2D) (None, 14, 14, 32)        0         \n",
      "_________________________________________________________________\n",
      "conv2d_1 (Conv2D)            (None, 14, 14, 64)        18496     \n",
      "_________________________________________________________________\n",
      "max_pooling2d_1 (MaxPooling2 (None, 7, 7, 64)          0         \n",
      "_________________________________________________________________\n",
      "flatten (Flatten)            (None, 3136)              0         \n",
      "_________________________________________________________________\n",
      "dense (Dense)                (None, 1024)              3212288   \n",
      "_________________________________________________________________\n",
      "dropout (Dropout)            (None, 1024)              0         \n",
      "_________________________________________________________________\n",
      "dense_1 (Dense)              (None, 128)               131200    \n",
      "_________________________________________________________________\n",
      "dropout_1 (Dropout)          (None, 128)               0         \n",
      "_________________________________________________________________\n",
      "dense_2 (Dense)              (None, 10)                1290      \n",
      "=================================================================\n",
      "Total params: 3,363,594\n",
      "Trainable params: 3,363,594\n",
      "Non-trainable params: 0\n",
      "_________________________________________________________________\n"
     ]
    }
   ],
   "source": [
    "from tensorflow.keras.layers import Dense, Conv2D, MaxPooling2D, Flatten, Dropout\n",
    "from tensorflow.keras.models import Sequential\n",
    "\n",
    "input_shape = train_data.shape[1:] # (28, 28, 1)\n",
    "\n",
    "def Conv_net(input_shape = input_shape):\n",
    "    \n",
    "    model = Sequential([\n",
    "        \n",
    "        # Feature Extract part\n",
    "        Conv2D(filters=32, kernel_size = 3, padding='SAME', activation = 'relu', input_shape=input_shape), # (28, 28, 1) -> (28, 28, 32)\n",
    "        MaxPooling2D(padding='SAME'), # (14, 14, 32), default pool size is [2,2]\n",
    "\n",
    "        Conv2D(filters=64, kernel_size = 3, padding='SAME', activation = 'relu'), # (14, 14, 32) -> (14, 14, 64)\n",
    "        MaxPooling2D(padding='SAME'), # (7, 7, 64)\n",
    "\n",
    "        Flatten(), # (7, 7, 32) -> (7*7*64)\n",
    "\n",
    "        # Classfication part\n",
    "        Dense(units=1024, activation='relu'), # (3136,) -> (1024,)\n",
    "        Dropout(0.2), # Model Regularization for generalization ny drop the edges\n",
    "\n",
    "        Dense(units=128, activation='relu'), # (1024,) -> (128,)\n",
    "        Dropout(0.2),\n",
    "\n",
    "        Dense(units=10, activation='softmax') # \n",
    "        \n",
    "    ])\n",
    "    \n",
    "    return model\n",
    "\n",
    "model = Conv_net(input_shape)\n",
    "model.summary()\n"
   ]
  },
  {
   "cell_type": "markdown",
   "metadata": {},
   "source": [
    "# Loss & Optimizer\n",
    "- Categorical_crossentropy https://peltarion.com/knowledge-center/documentation/modeling-view/build-an-ai-model/loss-functions/categorical-crossentropy\n",
    "- Optimizer(gradient descent algorithm) https://ruder.io/optimizing-gradient-descent/"
   ]
  },
  {
   "cell_type": "code",
   "execution_count": 5,
   "metadata": {},
   "outputs": [],
   "source": [
    "lr=0.001\n",
    "\n",
    "loss = tf.keras.losses.categorical_crossentropy\n",
    "sgd = tf.keras.optimizers.SGD(learning_rate=lr)\n",
    "\n",
    "model.compile(loss = loss,\n",
    "              optimizer = sgd,\n",
    "              metrics= ['accuracy'])"
   ]
  },
  {
   "cell_type": "markdown",
   "metadata": {},
   "source": [
    "# Data Pipeline"
   ]
  },
  {
   "cell_type": "code",
   "execution_count": 6,
   "metadata": {},
   "outputs": [],
   "source": [
    "from sklearn.model_selection import train_test_split\n",
    "\n",
    "test_idx, val_idx = train_test_split(list(range(10000)), test_size = 0.5)"
   ]
  },
  {
   "cell_type": "code",
   "execution_count": 7,
   "metadata": {},
   "outputs": [],
   "source": [
    "def make_dataset(data, labels, shuffle, batch_size):\n",
    "    dataset = tf.data.Dataset.from_tensor_slices((data, labels))\n",
    "    \n",
    "    if shuffle:\n",
    "        dataset = dataset.shuffle(buffer_size = data.shape[0])\n",
    "    \n",
    "    dataset = dataset.batch(batch_size)\n",
    "    \n",
    "    return dataset\n",
    "    \n",
    "\n",
    "buffer_size = train_data.shape[0]\n",
    "batch_size = 100\n",
    "\n",
    "train_ds = make_dataset(train_data,train_labels,True, batch_size)\n",
    "val_ds = make_dataset(test_data[val_idx],test_labels[val_idx],False, batch_size)\n",
    "test_ds = make_dataset(test_data[test_idx],test_labels[test_idx],False, batch_size)"
   ]
  },
  {
   "cell_type": "markdown",
   "metadata": {},
   "source": [
    "# Train"
   ]
  },
  {
   "cell_type": "code",
   "execution_count": 8,
   "metadata": {},
   "outputs": [
    {
     "name": "stdout",
     "output_type": "stream",
     "text": [
      "Epoch 1/10\n",
      "600/600 [==============================] - 38s 63ms/step - loss: 2.2720 - accuracy: 0.2218 - val_loss: 0.0000e+00 - val_accuracy: 0.0000e+00\n",
      "Epoch 2/10\n",
      "600/600 [==============================] - 37s 62ms/step - loss: 2.1519 - accuracy: 0.3963 - val_loss: 1.9642 - val_accuracy: 0.6014\n",
      "Epoch 3/10\n",
      "600/600 [==============================] - 37s 62ms/step - loss: 1.7409 - accuracy: 0.5616 - val_loss: 1.1640 - val_accuracy: 0.7590\n",
      "Epoch 4/10\n",
      "600/600 [==============================] - 37s 62ms/step - loss: 1.0625 - accuracy: 0.6980 - val_loss: 0.6081 - val_accuracy: 0.8446\n",
      "Epoch 5/10\n",
      "600/600 [==============================] - 37s 62ms/step - loss: 0.7237 - accuracy: 0.7786 - val_loss: 0.4328 - val_accuracy: 0.8854\n",
      "Epoch 6/10\n",
      "600/600 [==============================] - 37s 62ms/step - loss: 0.5691 - accuracy: 0.8253 - val_loss: 0.3645 - val_accuracy: 0.8982\n",
      "Epoch 7/10\n",
      "600/600 [==============================] - 37s 62ms/step - loss: 0.4894 - accuracy: 0.8492 - val_loss: 0.3196 - val_accuracy: 0.9094\n",
      "Epoch 8/10\n",
      "600/600 [==============================] - 37s 62ms/step - loss: 0.4330 - accuracy: 0.8681 - val_loss: 0.2891 - val_accuracy: 0.9174\n",
      "Epoch 9/10\n",
      "600/600 [==============================] - 37s 62ms/step - loss: 0.3943 - accuracy: 0.8795 - val_loss: 0.2672 - val_accuracy: 0.9230\n",
      "Epoch 10/10\n",
      "600/600 [==============================] - 37s 62ms/step - loss: 0.3685 - accuracy: 0.8881 - val_loss: 0.2512 - val_accuracy: 0.9254\n"
     ]
    }
   ],
   "source": [
    "epochs = 10\n",
    "\n",
    "hist = model.fit(\n",
    "    train_ds,\n",
    "    epochs=epochs,\n",
    "    validation_data= val_ds\n",
    ")"
   ]
  },
  {
   "cell_type": "code",
   "execution_count": 9,
   "metadata": {},
   "outputs": [
    {
     "data": {
      "image/png": "[encoded data removed]",
      "text/plain": [
       "<Figure size 576x864 with 2 Axes>"
      ]
     },
     "metadata": {
      "needs_background": "light"
     },
     "output_type": "display_data"
    }
   ],
   "source": [
    "import pandas as pd\n",
    "\n",
    "# Previous Unfiltered Data 'MSE' And 'MAE'\n",
    "def plot_history(history, idx):\n",
    "    hist = pd.DataFrame(history.history)\n",
    "    hist['epoch'] = history.epoch\n",
    "    \n",
    "    plt.figure(figsize=(8,12))\n",
    "\n",
    "    plt.subplot(2,1,1)\n",
    "    plt.xlabel('Epoch')\n",
    "    plt.ylabel('Loss')\n",
    "    plt.plot(hist['epoch'][idx:], hist['loss'][idx:],\n",
    "           label='Train loss')\n",
    "    plt.plot(hist['epoch'][idx:], hist['val_loss'][idx:],\n",
    "           label = 'Val loss')\n",
    "    plt.legend()\n",
    "\n",
    "    plt.subplot(2,1,2)\n",
    "    plt.xlabel('Epoch')\n",
    "    plt.ylabel('Accuracy')\n",
    "    plt.plot(hist['epoch'][idx:], hist['accuracy'][idx:],\n",
    "           label='Train Accuracy')\n",
    "    plt.plot(hist['epoch'][idx:], hist['val_accuracy'][idx:],\n",
    "           label = 'Val Accuracy')\n",
    "    plt.legend()\n",
    "    plt.show()\n",
    "    \n",
    "plot_history(hist,0)"
   ]
  },
  {
   "cell_type": "markdown",
   "metadata": {},
   "source": [
    "# Evaluate Model by using test_ds"
   ]
  },
  {
   "cell_type": "code",
   "execution_count": 10,
   "metadata": {},
   "outputs": [
    {
     "name": "stdout",
     "output_type": "stream",
     "text": [
      "50/50 [==============================] - 1s 11ms/step - loss: 0.2616 - accuracy: 0.9208\n",
      "Loss is 0.2615948134660721 \n",
      "Accuracy is 0.9208\n"
     ]
    }
   ],
   "source": [
    "loss, accuracy = model.evaluate(test_ds)\n",
    "print(\"Loss is\", loss, \"\\nAccuracy is\", accuracy)"
   ]
  },
  {
   "cell_type": "markdown",
   "metadata": {},
   "source": [
    "# Save the Model"
   ]
  },
  {
   "cell_type": "code",
   "execution_count": 11,
   "metadata": {},
   "outputs": [],
   "source": [
    "model.save('./models/mnist_classification.h5')"
   ]
  },
  {
   "cell_type": "markdown",
   "metadata": {},
   "source": [
    "# Load the model parameter\n",
    "- Only the same architecture"
   ]
  },
  {
   "cell_type": "code",
   "execution_count": 13,
   "metadata": {},
   "outputs": [
    {
     "name": "stdout",
     "output_type": "stream",
     "text": [
      "50/50 [==============================] - 1s 13ms/step - loss: 0.2616 - accuracy: 0.9208\n",
      "Loss is 0.2615948134660721 \n",
      "Accuracy is 0.9208\n"
     ]
    }
   ],
   "source": [
    "model2 = Conv_net(input_shape)\n",
    "model2.load_weights('./models/mnist_classification.h5')\n",
    "\n",
    "model2.compile(loss='categorical_crossentropy',\n",
    "             optimize = sgd,\n",
    "              metrics=['accuracy'])\n",
    "loss, accuracy = model2.evaluate(test_ds)\n",
    "print(\"Loss is\", loss, \"\\nAccuracy is\", accuracy)"
   ]
  },
  {
   "cell_type": "code",
   "execution_count": null,
   "metadata": {},
   "outputs": [],
   "source": []
  }
 ],
 "metadata": {
  "kernelspec": {
   "display_name": "[TF]",
   "language": "python",
   "name": "tf"
  },
  "language_info": {
   "codemirror_mode": {
    "name": "ipython",
    "version": 3
   },
   "file_extension": ".py",
   "mimetype": "text/x-python",
   "name": "python",
   "nbconvert_exporter": "python",
   "pygments_lexer": "ipython3",
   "version": "3.7.4"
  }
 },
 "nbformat": 4,
 "nbformat_minor": 4
}
